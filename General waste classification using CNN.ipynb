{
 "cells": [
  {
   "cell_type": "code",
   "execution_count": 1,
   "id": "f40285e0",
   "metadata": {},
   "outputs": [],
   "source": [
    "#### GENERAL WASTE CLASSIFICATION (TO CLASSIFY WASTE INTO ORGANIC AND RECYCLABLE ITEMS)\n",
    "#Import all the necessary libraries\n",
    "import os\n",
    "import numpy as np\n",
    "import pandas as pd\n",
    "import matplotlib.pyplot as plt\n",
    "import seaborn as sns\n",
    "from sklearn.model_selection import train_test_split\n",
    "from PIL import Image\n",
    "\n",
    "import torch\n",
    "import torchvision\n",
    "import torch.nn as nn\n",
    "import torch.nn.functional as F\n",
    "from torchvision.io import read_image\n",
    "from torch.utils.data import Dataset\n",
    "from torchvision import transforms\n",
    "from torch.utils.data import DataLoader"
   ]
  },
  {
   "cell_type": "code",
   "execution_count": 2,
   "id": "359e3b8b",
   "metadata": {},
   "outputs": [],
   "source": [
    "def get_image_paths(path):    # function defined to take path of the images as input\n",
    "    paths = []\n",
    "    labels = []\n",
    "    for label in os.listdir(path):\n",
    "        img_dir = os.path.join(path, label)\n",
    "        for img in os.listdir(img_dir):\n",
    "            paths.append(os.path.join(img_dir, img))\n",
    "            labels.append(label)\n",
    "         \n",
    " # Returns a dataframe containing path and labels of all the images in the dataset       \n",
    "    return pd.DataFrame({'path':paths, 'label':labels}) "
   ]
  },
  {
   "cell_type": "code",
   "execution_count": 3,
   "id": "63a142b2",
   "metadata": {},
   "outputs": [
    {
     "ename": "FileNotFoundError",
     "evalue": "[WinError 3] The system cannot find the path specified: 'C:/Users/rashi/OneDrive/Documents/ENFUSE Documents/ENFUSE Dataset/Waste dataset/DATASET/TRAIN'",
     "output_type": "error",
     "traceback": [
      "\u001b[1;31m---------------------------------------------------------------------------\u001b[0m",
      "\u001b[1;31mFileNotFoundError\u001b[0m                         Traceback (most recent call last)",
      "\u001b[1;32m~\\AppData\\Local\\Temp\\ipykernel_22984\\2446450530.py\u001b[0m in \u001b[0;36m<module>\u001b[1;34m\u001b[0m\n\u001b[0;32m      1\u001b[0m \u001b[1;31m# Load the train data set\u001b[0m\u001b[1;33m\u001b[0m\u001b[1;33m\u001b[0m\u001b[0m\n\u001b[1;32m----> 2\u001b[1;33m \u001b[0mtrain\u001b[0m \u001b[1;33m=\u001b[0m \u001b[0mget_image_paths\u001b[0m\u001b[1;33m(\u001b[0m\u001b[1;34m\"C:/Users/rashi/OneDrive/Documents/ENFUSE Documents/ENFUSE Dataset/Waste dataset/DATASET/TRAIN\"\u001b[0m\u001b[1;33m)\u001b[0m\u001b[1;33m\u001b[0m\u001b[1;33m\u001b[0m\u001b[0m\n\u001b[0m\u001b[0;32m      3\u001b[0m \u001b[1;33m\u001b[0m\u001b[0m\n\u001b[0;32m      4\u001b[0m \u001b[0mtrain\u001b[0m\u001b[1;33m.\u001b[0m\u001b[0mhead\u001b[0m\u001b[1;33m(\u001b[0m\u001b[1;33m)\u001b[0m\u001b[1;33m\u001b[0m\u001b[1;33m\u001b[0m\u001b[0m\n",
      "\u001b[1;32m~\\AppData\\Local\\Temp\\ipykernel_22984\\3304885788.py\u001b[0m in \u001b[0;36mget_image_paths\u001b[1;34m(path)\u001b[0m\n\u001b[0;32m      2\u001b[0m     \u001b[0mpaths\u001b[0m \u001b[1;33m=\u001b[0m \u001b[1;33m[\u001b[0m\u001b[1;33m]\u001b[0m\u001b[1;33m\u001b[0m\u001b[1;33m\u001b[0m\u001b[0m\n\u001b[0;32m      3\u001b[0m     \u001b[0mlabels\u001b[0m \u001b[1;33m=\u001b[0m \u001b[1;33m[\u001b[0m\u001b[1;33m]\u001b[0m\u001b[1;33m\u001b[0m\u001b[1;33m\u001b[0m\u001b[0m\n\u001b[1;32m----> 4\u001b[1;33m     \u001b[1;32mfor\u001b[0m \u001b[0mlabel\u001b[0m \u001b[1;32min\u001b[0m \u001b[0mos\u001b[0m\u001b[1;33m.\u001b[0m\u001b[0mlistdir\u001b[0m\u001b[1;33m(\u001b[0m\u001b[0mpath\u001b[0m\u001b[1;33m)\u001b[0m\u001b[1;33m:\u001b[0m\u001b[1;33m\u001b[0m\u001b[1;33m\u001b[0m\u001b[0m\n\u001b[0m\u001b[0;32m      5\u001b[0m         \u001b[0mimg_dir\u001b[0m \u001b[1;33m=\u001b[0m \u001b[0mos\u001b[0m\u001b[1;33m.\u001b[0m\u001b[0mpath\u001b[0m\u001b[1;33m.\u001b[0m\u001b[0mjoin\u001b[0m\u001b[1;33m(\u001b[0m\u001b[0mpath\u001b[0m\u001b[1;33m,\u001b[0m \u001b[0mlabel\u001b[0m\u001b[1;33m)\u001b[0m\u001b[1;33m\u001b[0m\u001b[1;33m\u001b[0m\u001b[0m\n\u001b[0;32m      6\u001b[0m         \u001b[1;32mfor\u001b[0m \u001b[0mimg\u001b[0m \u001b[1;32min\u001b[0m \u001b[0mos\u001b[0m\u001b[1;33m.\u001b[0m\u001b[0mlistdir\u001b[0m\u001b[1;33m(\u001b[0m\u001b[0mimg_dir\u001b[0m\u001b[1;33m)\u001b[0m\u001b[1;33m:\u001b[0m\u001b[1;33m\u001b[0m\u001b[1;33m\u001b[0m\u001b[0m\n",
      "\u001b[1;31mFileNotFoundError\u001b[0m: [WinError 3] The system cannot find the path specified: 'C:/Users/rashi/OneDrive/Documents/ENFUSE Documents/ENFUSE Dataset/Waste dataset/DATASET/TRAIN'"
     ]
    }
   ],
   "source": [
    "# Load the train data set\n",
    "train = get_image_paths(\"C:/Users/rashi/OneDrive/Documents/ENFUSE Documents/ENFUSE Dataset/Waste dataset/DATASET/TRAIN\")\n",
    "\n",
    "train.head()"
   ]
  },
  {
   "cell_type": "code",
   "execution_count": null,
   "id": "91664ed7",
   "metadata": {},
   "outputs": [],
   "source": [
    "train.info()"
   ]
  },
  {
   "cell_type": "code",
   "execution_count": null,
   "id": "5f23544a",
   "metadata": {},
   "outputs": [],
   "source": [
    "# Load the test data set\n",
    "test = get_image_paths(\"C:/Users/rashi/OneDrive/Documents/ENFUSE Documents/ENFUSE Dataset/Waste dataset/DATASET/TEST\")\n",
    "test.head()"
   ]
  },
  {
   "cell_type": "code",
   "execution_count": null,
   "id": "f76ccf39",
   "metadata": {},
   "outputs": [],
   "source": [
    "test.info()\n"
   ]
  },
  {
   "cell_type": "code",
   "execution_count": null,
   "id": "6ebccb02",
   "metadata": {},
   "outputs": [],
   "source": [
    "# Convert string labels of the images to binary values\n",
    "conversion = {'O': 0, 'R': 1}\n",
    "\n",
    "train.label = train.label.map(conversion)\n",
    "test.label = test.label.map(conversion)\n",
    "\n",
    "train.head()"
   ]
  },
  {
   "cell_type": "code",
   "execution_count": null,
   "id": "5f6a1764",
   "metadata": {},
   "outputs": [],
   "source": [
    "# Class defined for data transformationon on each image\n",
    "\n",
    "class WasteData(Dataset):       \n",
    "    def __init__(self, dir_lbl, transform=None):\n",
    "        self.dir_lbl = dir_lbl\n",
    "        self.transform = transform\n",
    "\n",
    "    def __len__(self):\n",
    "        return len(self.dir_lbl)\n",
    "\n",
    "    def __getitem__(self, idx):\n",
    "        img_dir_lbl = self.dir_lbl.iloc[idx]\n",
    "        img_dir = img_dir_lbl.path\n",
    "        label = img_dir_lbl.label\n",
    "        image = Image.open(img_dir).convert('RGB')\n",
    "        \n",
    "        if self.transform:\n",
    "            image = self.transform(image)\n",
    "\n",
    "        return image, label"
   ]
  },
  {
   "cell_type": "code",
   "execution_count": null,
   "id": "4e310fa9",
   "metadata": {},
   "outputs": [],
   "source": [
    "# Data transformation, resizing the image, converting the images to a tensor and normalize the pixel values\n",
    "\n",
    "data_transform = transforms.Compose([\n",
    "    transforms.Resize((256)),\n",
    "    transforms.ToTensor(),\n",
    "    transforms.CenterCrop(224),\n",
    "    transforms.Normalize(\n",
    "           mean=[0.485, 0.456, 0.406],\n",
    "           std=[0.229, 0.224, 0.225])\n",
    "])"
   ]
  },
  {
   "cell_type": "code",
   "execution_count": null,
   "id": "aac32f7f",
   "metadata": {},
   "outputs": [],
   "source": [
    "train_dataset = WasteData(train, data_transform)\n",
    "train_dataset\n",
    "\n",
    "train_size = int(0.9 * len(train_dataset))\n",
    "valid_size = len(train_dataset) - train_size\n",
    "train_dataset, valid_dataset = torch.utils.data.random_split(train_dataset, [train_size, valid_size])"
   ]
  },
  {
   "cell_type": "code",
   "execution_count": null,
   "id": "10de432c",
   "metadata": {},
   "outputs": [],
   "source": [
    "test_dataset = WasteData(test, data_transform)\n",
    "test_dataset"
   ]
  },
  {
   "cell_type": "code",
   "execution_count": null,
   "id": "3ca4d924",
   "metadata": {},
   "outputs": [],
   "source": [
    "batch_size = 64\n",
    "\n",
    "# Split training data set into random training and validation set\n",
    "\n",
    "train_dataloader = DataLoader(train_dataset, batch_size=batch_size, shuffle=True)\n",
    "test_dataloader = DataLoader(test_dataset, batch_size=batch_size, shuffle=True)\n",
    "valid_dataloader = DataLoader(valid_dataset, batch_size=batch_size, shuffle=True)"
   ]
  },
  {
   "cell_type": "code",
   "execution_count": null,
   "id": "a3098e51",
   "metadata": {},
   "outputs": [],
   "source": [
    "for i in range(5):\n",
    "    train_features, train_labels = next(iter(train_dataloader))\n",
    "    img = train_features[0].squeeze().numpy().transpose((1, 2, 0))\n",
    "\n",
    "    label = train_labels[0]\n",
    "    print(f\"Label {i+1}: {label}\")\n",
    "    plt.imshow(img)\n",
    "    plt.show()"
   ]
  },
  {
   "cell_type": "code",
   "execution_count": null,
   "id": "60b7f610",
   "metadata": {},
   "outputs": [],
   "source": [
    "device = torch.device('cuda:0' if torch.cuda.is_available() else 'cpu')\n",
    "\n",
    "print(device)"
   ]
  },
  {
   "cell_type": "code",
   "execution_count": null,
   "id": "24c96f7a",
   "metadata": {},
   "outputs": [],
   "source": [
    "## Here we apply deep learning using 3 connected layers and 6 convolutional layers (CNNs)\n",
    "\n",
    "class Net(nn.Module):    #Net is the deep learning defined class\n",
    "    def __init__(self):\n",
    "        super().__init__()\n",
    "        \n",
    "        self.conv1 = nn.Conv2d(3, 8, 3)\n",
    "        self.conv2 = nn.Conv2d(8, 16, 3)\n",
    "        self.pool = nn.MaxPool2d(2, 2)\n",
    "        \n",
    "        self.conv3 = nn.Conv2d(16, 32, 3)\n",
    "        self.conv4 = nn.Conv2d(32, 32, 3)\n",
    "    \n",
    "        self.conv5 = nn.Conv2d(32, 64, 3)\n",
    "        self.conv6 = nn.Conv2d(64, 64, 3)\n",
    "            \n",
    "        self.fc1 = nn.Linear(64*24*24, 1024)\n",
    "        self.fc2 = nn.Linear(1024, 512)\n",
    "        self.fc3 = nn.Linear(512, 10)\n",
    "        self.fc4 = nn.Linear(10, 1)\n",
    "        \n",
    "    def forward(self, x):\n",
    "        x = F.relu(self.conv1(x))      ## ReLu to extract features from images\n",
    "        x = self.pool(F.relu(self.conv2(x)))\n",
    "        \n",
    "        x = F.relu(self.conv3(x))\n",
    "        x = self.pool(F.relu(self.conv4(x)))\n",
    "        \n",
    "        x = F.relu(self.conv5(x))\n",
    "        x = self.pool(F.relu(self.conv6(x)))\n",
    "        x = torch.flatten(x, 1) # flatten all dimensions except batch\n",
    "        x = F.relu(self.fc1(x))\n",
    "        x = F.relu(self.fc2(x))\n",
    "        x = F.relu(self.fc3(x))\n",
    "        x = torch.sigmoid(self.fc4(x))\n",
    "        return x\n",
    "    \n",
    "net = Net().to(device)"
   ]
  },
  {
   "cell_type": "code",
   "execution_count": null,
   "id": "7585d370",
   "metadata": {},
   "outputs": [],
   "source": [
    "import torch.optim as optim\n",
    "\n",
    "#Optimizer used for training the model\n",
    "\n",
    "criterion = nn.BCELoss()\n",
    "optimizer = optim.Adam(net.parameters(), lr=0.0005)"
   ]
  },
  {
   "cell_type": "code",
   "execution_count": null,
   "id": "dc39ccd6",
   "metadata": {},
   "outputs": [],
   "source": [
    "# Training loss for the model\n",
    "\n",
    "train_loss = []\n",
    "val_loss = []\n",
    "epochs = 4\n",
    "for epoch in range(epochs): \n",
    "    epoch_loss = 0.0\n",
    "    epoch_loss_val = 0.0\n",
    "    running_loss = 0.0\n",
    "    print('Training:')\n",
    "    for i, data in enumerate(train_dataloader, 0):\n",
    "        inputs, labels = data[0].to(device), data[1].float().to(device)\n",
    "\n",
    "        optimizer.zero_grad()\n",
    "\n",
    "        outputs = net(inputs).squeeze()\n",
    "        loss = criterion(outputs, labels)\n",
    "        loss.backward()\n",
    "        optimizer.step()\n",
    "\n",
    "        running_loss += loss.item()\n",
    "        if i % 10 == 9:\n",
    "            loss = running_loss / 10\n",
    "            epoch_loss += loss\n",
    "            print(f'\\t[{epoch + 1}, {i + 1:5d}] loss: {loss:.6f}')\n",
    "            running_loss = 0.0\n",
    "     \n",
    "    print('Validation:')\n",
    "    running_loss_valid = 0.0\n",
    "    for i, data in enumerate(valid_dataloader, 0):\n",
    "        with torch.no_grad():\n",
    "            inputs, labels = data[0].to(device), data[1].float().to(device)\n",
    "\n",
    "            outputs = net(inputs).squeeze()\n",
    "            loss = criterion(outputs, labels)\n",
    "\n",
    "            running_loss_valid += loss.item()\n",
    "            if i % 10 == 9:\n",
    "                loss = running_loss_valid / 10\n",
    "                epoch_loss_val += loss\n",
    "                print(f'\\t[{epoch + 1}, {i + 1:5d}] loss: {loss:.6f}')\n",
    "                running_loss_valid = 0.0\n",
    "                \n",
    "    train_loss.append(epoch_loss)\n",
    "    val_loss.append(epoch_loss_val)\n",
    "\n",
    "print('Finished Training and Validation')"
   ]
  },
  {
   "cell_type": "code",
   "execution_count": null,
   "id": "4087632d",
   "metadata": {},
   "outputs": [],
   "source": [
    "plt.figure(figsize=(20,6));\n",
    "sns.lineplot(x=list(range(epochs)), y=train_loss)\n",
    "sns.lineplot(x=list(range(epochs)), y=val_loss)\n",
    "plt.legend(['Training loss', 'Validation loss']) "
   ]
  },
  {
   "cell_type": "code",
   "execution_count": null,
   "id": "48c11937",
   "metadata": {},
   "outputs": [],
   "source": [
    "correct = 0\n",
    "total = 0\n",
    "with torch.no_grad():\n",
    "    for data in test_dataloader:\n",
    "        images, labels = data[0].to(device), data[1].float().to(device)\n",
    "        outputs = net(images)\n",
    "        predicted = torch.round(outputs.data).squeeze()\n",
    "        total += labels.size(0)\n",
    "        correct += (predicted == labels).sum().item()\n",
    "\n",
    "print(f'The Accuracy of the network : {100 * correct // total} %')"
   ]
  },
  {
   "cell_type": "code",
   "execution_count": null,
   "id": "e4e385e0",
   "metadata": {},
   "outputs": [],
   "source": []
  }
 ],
 "metadata": {
  "kernelspec": {
   "display_name": "Python 3 (ipykernel)",
   "language": "python",
   "name": "python3"
  },
  "language_info": {
   "codemirror_mode": {
    "name": "ipython",
    "version": 3
   },
   "file_extension": ".py",
   "mimetype": "text/x-python",
   "name": "python",
   "nbconvert_exporter": "python",
   "pygments_lexer": "ipython3",
   "version": "3.9.13"
  }
 },
 "nbformat": 4,
 "nbformat_minor": 5
}
